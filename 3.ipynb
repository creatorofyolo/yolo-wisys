{
  "nbformat": 4,
  "nbformat_minor": 0,
  "metadata": {
    "colab": {
      "provenance": []
    },
    "kernelspec": {
      "name": "python3",
      "display_name": "Python 3"
    },
    "language_info": {
      "name": "python"
    }
  },
  "cells": [
    {
      "cell_type": "code",
      "execution_count": null,
      "metadata": {
        "colab": {
          "base_uri": "https://localhost:8080/",
          "height": 106
        },
        "id": "dQ12AW11xZwx",
        "outputId": "b8638ada-f196-44d3-ffe9-aa23f9ef53b4"
      },
      "outputs": [
        {
          "output_type": "error",
          "ename": "SyntaxError",
          "evalue": "invalid syntax (<ipython-input-1-8e4e3a37cded>, line 1)",
          "traceback": [
            "\u001b[0;36m  File \u001b[0;32m\"<ipython-input-1-8e4e3a37cded>\"\u001b[0;36m, line \u001b[0;32m1\u001b[0m\n\u001b[0;31m    Rotation:\u001b[0m\n\u001b[0m             ^\u001b[0m\n\u001b[0;31mSyntaxError\u001b[0m\u001b[0;31m:\u001b[0m invalid syntax\n"
          ]
        }
      ],
      "source": [
        "Rotation:\n",
        "import cv2\n",
        "import numpy as np\n",
        "def rotate_image(image, angle):\n",
        "  height, width = image.shape[:2]\n",
        "  rotation_matrix = cv2.getRotationMatrix2D((width / 2, height / 2), angle, 1)\n",
        "  rotated_image = cv2.warpAffine(image, rotation_matrix, (width, height))\n",
        "  return rotated_image\n",
        "# Usage\n",
        "image = cv2.imread(\"img.jpg\")\n",
        "angle_degrees = 45\n",
        "rotated = rotate_image(image, angle_degrees)\n",
        "cv2.imshow(\"Rotated Image\", rotated)\n",
        "cv2.waitKey(0)\n",
        "cv2.destroyAllWindows()\n",
        "\n",
        "Change of scale:\n",
        "def scale_image(image, scale_x, scale_y):\n",
        "  scaled_image = cv2.resize(image, None, fx=scale_x, fy=scale_y)\n",
        "  return scaled_image\n",
        "# Usage\n",
        "image = cv2.imread(\"path_to_image.jpg\")\n",
        "scale_factor_x = 1.5\n",
        "scale_factor_y = 1.5\n",
        "scaled = scale_image(image, scale_factor_x, scale_factor_y)\n",
        "cv2.imshow(\"Scaled Image\", scaled)\n",
        "cv2.waitKey(0)\n",
        "cv2.destroyAllWindows()\n",
        "\n",
        "Skewing:\n",
        "def skew_image(image, skew_x, skew_y):\n",
        "  height, width = image.shape[:2]\n",
        "  skew_matrix = np.float32([[1, skew_x, 0], [skew_y, 1, 0]])\n",
        "  skewed_image = cv2.warpAffine(image, skew_matrix, (width, height))\n",
        "  return skewed_image\n",
        "# Usage\n",
        "image = cv2.imread(\"path_to_image.jpg\")\n",
        "skew_factor_x = 0.2\n",
        "skew_factor_y = 0.1\n",
        "skewed = skew_image(image, skew_factor_x, skew_factor_y)\n",
        "cv2.imshow(\"Skewed Image\", skewed)\n",
        "cv2.waitKey(0)\n",
        "cv2.destroyAllWindows()\n",
        "\n",
        "Affine transform calculated from three pairs of corresponding points:\n",
        "def affine_transform(image, pts_src, pts_dst):\n",
        "  matrix = cv2.getAffineTransform(pts_src, pts_dst)\n",
        "  transformed_image = cv2.warpAffine(image, matrix, (image.shape[1],\n",
        "  image.shape[0]))\n",
        "  return transformed_image\n",
        "# Usage: Provide three pairs of corresponding points\n",
        "image = cv2.imread(\"path_to_image.jpg\")\n",
        "src_points = np.float32([[50, 50], [200, 50], [50, 200]])\n",
        "dst_points = np.float32([[10, 100], [200, 50], [100, 250]])\n",
        "affine_transformed = affine_transform(image, src_points, dst_points)\n",
        "cv2.imshow(\"Affine Transformed Image\", affine_transformed)\n",
        "cv2.waitKey(0)\n",
        "cv2.destroyAllWindows()\n",
        "\n",
        "Bilinear Transform from Four Corresponding Points:\n",
        "def bilinear_transform(image, pts_src, pts_dst):\n",
        "  matrix = cv2.getPerspectiveTransform(pts_src, pts_dst)\n",
        "  transformed_image = cv2.warpPerspective(image, matrix, (image.shape[1],\n",
        "  image.shape[0]))\n",
        "  return transformed_image\n",
        "# Usage: Provide four pairs of corresponding points\n",
        "image = cv2.imread(\"path_to_image.jpg\")\n",
        "src_points = np.float32([[56, 65], [368, 52], [28, 387], [389, 390]])\n",
        "dst_points = np.float32([[0, 0], [300, 0], [0, 300], [300, 300]])\n",
        "bilinear_transformed = bilinear_transform(image, src_points, dst_points)\n",
        "cv2.imshow(\"Bilinear Transformed Image\", bilinear_transformed)\n",
        "cv2.waitKey(0)\n",
        "cv2.destroyAllWindows()"
      ]
    },
    {
      "cell_type": "code",
      "source": [],
      "metadata": {
        "id": "jOtkusY4x88y"
      },
      "execution_count": null,
      "outputs": []
    }
  ]
}
