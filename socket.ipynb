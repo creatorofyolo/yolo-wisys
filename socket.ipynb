{
  "nbformat": 4,
  "nbformat_minor": 0,
  "metadata": {
    "colab": {
      "provenance": []
    },
    "kernelspec": {
      "name": "python3",
      "display_name": "Python 3"
    },
    "language_info": {
      "name": "python"
    }
  },
  "cells": [
    {
      "cell_type": "code",
      "execution_count": null,
      "metadata": {
        "id": "7iXevD794CiJ"
      },
      "outputs": [],
      "source": [
        "import socket\n",
        "from concurrent import futures\n",
        "\n",
        "def check_port(target_ip, port_number, timeout):\n",
        "    TCP_sock = socket.socket(socket.AF_INET, socket.SOCK_STREAM)\n",
        "    TCP_sock.setsockopt(socket.SOL_SOCKET, socket.SO_REUSEADDR, 1)\n",
        "    TCP_sock.settimeout(timeout)\n",
        "    try:\n",
        "        TCP_sock.connect((target_ip, port_number))\n",
        "        return port_number\n",
        "    except socket.timeout:\n",
        "        return None\n",
        "    except ConnectionRefusedError:\n",
        "        return None\n",
        "    finally:\n",
        "        TCP_sock.close()\n",
        "\n",
        "def port_scanner(target_ip, timeout):\n",
        "    max_workers = 100  # Adjust this according to your system's capabilities\n",
        "    ports_to_check = range(1, 65536)  # Scan all valid port numbers\n",
        "    with futures.ThreadPoolExecutor(max_workers=max_workers) as executor:\n",
        "        checks = [executor.submit(check_port, target_ip, port, timeout) for port in ports_to_check]\n",
        "        for future in futures.as_completed(checks):\n",
        "            port = future.result()\n",
        "            if port:\n",
        "                print('Listening on port: {}'.format(port))\n",
        "\n",
        "def main():\n",
        "    target_ip = input(\"Enter the target IP address: \")\n",
        "    timeout = int(input(\"Enter the connection timeout (in seconds): \"))\n",
        "    port_scanner(target_ip, timeout)\n",
        "\n",
        "if __name__ == \"__main__\":\n",
        "    main()\n"
      ]
    }
  ]
}