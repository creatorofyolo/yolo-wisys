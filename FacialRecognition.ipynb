{
  "nbformat": 4,
  "nbformat_minor": 0,
  "metadata": {
    "colab": {
      "provenance": []
    },
    "kernelspec": {
      "name": "python3",
      "display_name": "Python 3"
    },
    "language_info": {
      "name": "python"
    }
  },
  "cells": [
    {
      "cell_type": "markdown",
      "source": [
        "Survillance"
      ],
      "metadata": {
        "id": "t-m2N3aPqAKq"
      }
    },
    {
      "cell_type": "code",
      "source": [
        "import cv2\n",
        "#from google.colab.patches import cv2_imshow\n",
        "face_cascade = cv2.CascadeClassifier(cv2.data.haarcascades + 'haarcascade_frontalface_default.xml')\n",
        "\n",
        "img = cv2.imread('image.jpg')\n",
        "\n",
        "gray_img = cv2.cvtColor(img, cv2.COLOR_BGR2GRAY)\n",
        "\n",
        "faces = face_cascade.detectMultiScale(gray_img, scaleFactor=1.1, minNeighbors=5)\n",
        "\n",
        "for (x, y, w, h) in faces:\n",
        "    cv2.rectangle(img, (x, y), (x+w, y+h), (255, 0, 0), 2)\n",
        "\n",
        "cv2.imshow(img)\n",
        "#if in colab or the above line doesnt work put cv2_imshow(img) and remove tag on the second line and run with it\n",
        "cv2.waitKey(0)\n",
        "cv2.destroyAllWindows()"
      ],
      "metadata": {
        "id": "pf7aGRF3lehs"
      },
      "execution_count": null,
      "outputs": []
    }
  ]
}