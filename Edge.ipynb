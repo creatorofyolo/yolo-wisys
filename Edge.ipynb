{
  "nbformat": 4,
  "nbformat_minor": 0,
  "metadata": {
    "colab": {
      "provenance": []
    },
    "kernelspec": {
      "name": "python3",
      "display_name": "Python 3"
    },
    "language_info": {
      "name": "python"
    }
  },
  "cells": [
    {
      "cell_type": "code",
      "execution_count": null,
      "metadata": {
        "id": "W-tgH_zYJcCx"
      },
      "outputs": [],
      "source": [
        "import cv2\n",
        "\n",
        "def motion_analysis(video_path):\n",
        "    cap = cv2.VideoCapture(video_path)\n",
        "    ret, prev_frame = cap.read()\n",
        "    prev_gray = cv2.cvtColor(prev_frame, cv2.COLOR_BGR2GRAY)\n",
        "\n",
        "    while cap.isOpened():\n",
        "        ret, frame = cap.read()\n",
        "        if not ret:\n",
        "            break\n",
        "\n",
        "        gray = cv2.cvtColor(frame, cv2.COLOR_BGR2GRAY)\n",
        "\n",
        "        edges_prev = cv2.Canny(prev_gray, 50, 150)\n",
        "        edges_curr = cv2.Canny(gray, 50, 150)\n",
        "\n",
        "        frame_diff = cv2.absdiff(edges_prev, edges_curr)\n",
        "\n",
        "        cv2.imshow('Moving Edges', frame_diff)\n",
        "\n",
        "        if cv2.waitKey(30) & 0xFF == ord('q'):\n",
        "            break\n",
        "\n",
        "        prev_gray = gray.copy()\n",
        "\n",
        "    cap.release()\n",
        "    cv2.destroyAllWindows()\n",
        "\n",
        "# Replace 'path_to_video.mp4' with your video file path\n",
        "video_path = r\"C:\\Users\\Sneha\\Downloads\\VIRAT_S_010204_05_000856_000890.mp4\"\n",
        "motion_analysis(video_path)\n"
      ]
    }
  ]
}