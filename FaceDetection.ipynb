{
  "nbformat": 4,
  "nbformat_minor": 0,
  "metadata": {
    "colab": {
      "provenance": []
    },
    "kernelspec": {
      "name": "python3",
      "display_name": "Python 3"
    },
    "language_info": {
      "name": "python"
    }
  },
  "cells": [
    {
      "cell_type": "code",
      "execution_count": null,
      "metadata": {
        "id": "l5s6ZgUyr9E2"
      },
      "outputs": [],
      "source": [
        "import cv2\n",
        "import matplotlib.pyplot as plt\n",
        "\n",
        "# Load the pre-trained face cascade classifier\n",
        "face_cascade = cv2.CascadeClassifier(cv2.data.haarcascades + 'haarcascade_frontalface_default.xml')\n",
        "\n",
        "# Read the image\n",
        "img = cv2.imread('C:/path/to/your/image.jpg')\n",
        "\n",
        "# Convert the image to grayscale\n",
        "gray_img = cv2.cvtColor(img, cv2.COLOR_BGR2GRAY)\n",
        "\n",
        "# Detect faces in the image\n",
        "faces = face_cascade.detectMultiScale(gray_img, scaleFactor=1.1, minNeighbors=5)\n",
        "\n",
        "# Draw rectangles around the detected faces\n",
        "for (x, y, w, h) in faces:\n",
        "    cv2.rectangle(img, (x, y), (x+w, y+h), (255, 0, 0), 2)\n",
        "    cv2.putText(img, \"Alex\", (x, y-10), cv2.FONT_HERSHEY_SIMPLEX, 0.9, (255, 0, 0), 2)\n",
        "\n",
        "# Convert image from BGR to RGB (OpenCV uses BGR by default, but Matplotlib expects RGB)\n",
        "img_rgb = cv2.cvtColor(img, cv2.COLOR_BGR2RGB)\n",
        "\n",
        "# Display the image using Matplotlib\n",
        "plt.imshow(img_rgb)\n",
        "plt.axis('off')  # Turn off axis\n",
        "plt.show()"
      ]
    },
    {
      "cell_type": "code",
      "source": [
        "import cv2\n",
        "import matplotlib.pyplot as plt\n",
        "\n",
        "# Load the pre-trained face cascade classifier\n",
        "face_cascade = cv2.CascadeClassifier(cv2.data.haarcascades + 'haarcascade_frontalface_default.xml')\n",
        "\n",
        "# Read the image\n",
        "img = cv2.imread('C:/path/to/your/image2.jpg')\n",
        "\n",
        "# Convert the image to grayscale\n",
        "gray_img = cv2.cvtColor(img, cv2.COLOR_BGR2GRAY)\n",
        "\n",
        "# Detect faces in the image\n",
        "faces = face_cascade.detectMultiScale(gray_img, scaleFactor=1.1, minNeighbors=5)\n",
        "\n",
        "# Draw rectangles around the detected faces\n",
        "for (x, y, w, h) in faces:\n",
        "    cv2.rectangle(img, (x, y), (x+w, y+h), (255, 0, 0), 2)\n",
        "    cv2.putText(img, \"Mark\", (x, y-10), cv2.FONT_HERSHEY_SIMPLEX, 0.9, (255, 0, 0), 2)\n",
        "\n",
        "# Convert image from BGR to RGB (OpenCV uses BGR by default, but Matplotlib expects RGB)\n",
        "img_rgb = cv2.cvtColor(img, cv2.COLOR_BGR2RGB)\n",
        "\n",
        "# Display the image using Matplotlib\n",
        "plt.imshow(img_rgb)\n",
        "plt.axis('off')  # Turn off axis\n",
        "plt.show()"
      ],
      "metadata": {
        "id": "kFnAq_vosP8m"
      },
      "execution_count": null,
      "outputs": []
    },
    {
      "cell_type": "code",
      "source": [
        "import cv2\n",
        "import matplotlib.pyplot as plt\n",
        "\n",
        "# Load the pre-trained face cascade classifier\n",
        "face_cascade = cv2.CascadeClassifier(cv2.data.haarcascades + 'haarcascade_frontalface_default.xml')\n",
        "\n",
        "# Read the image\n",
        "img = cv2.imread('C:/path/to/your/image3.jpg')\n",
        "\n",
        "# Convert the image to grayscale\n",
        "gray_img = cv2.cvtColor(img, cv2.COLOR_BGR2GRAY)\n",
        "\n",
        "# Detect faces in the image\n",
        "faces = face_cascade.detectMultiScale(gray_img, scaleFactor=1.1, minNeighbors=5)\n",
        "\n",
        "# Draw rectangles around the detected faces\n",
        "for (x, y, w, h) in faces:\n",
        "    cv2.rectangle(img, (x, y), (x+w, y+h), (255, 0, 0), 2)\n",
        "    cv2.putText(img, \"David\", (x, y-10), cv2.FONT_HERSHEY_SIMPLEX, 0.9, (255, 0, 0), 2)\n",
        "\n",
        "# Convert image from BGR to RGB (OpenCV uses BGR by default, but Matplotlib expects RGB)\n",
        "img_rgb = cv2.cvtColor(img, cv2.COLOR_BGR2RGB)\n",
        "\n",
        "# Display the image using Matplotlib\n",
        "plt.imshow(img_rgb)\n",
        "plt.axis('off')  # Turn off axis\n",
        "plt.show()"
      ],
      "metadata": {
        "id": "IK3HihSisR1B"
      },
      "execution_count": null,
      "outputs": []
    }
  ]
}