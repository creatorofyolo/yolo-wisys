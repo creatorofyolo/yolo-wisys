{
  "nbformat": 4,
  "nbformat_minor": 0,
  "metadata": {
    "colab": {
      "provenance": []
    },
    "kernelspec": {
      "name": "python3",
      "display_name": "Python 3"
    },
    "language_info": {
      "name": "python"
    }
  },
  "cells": [
    {
      "cell_type": "code",
      "execution_count": null,
      "metadata": {
        "id": "X7r6UMNfsr7Z"
      },
      "outputs": [],
      "source": [
        "import matplotlib.pyplot as plt\n",
        "import cv2\n",
        "import numpy as np\n",
        "from operator import add\n",
        "from functools import reduce\n",
        "\n",
        "def split4(image):\n",
        "    half_split = np.array_split(image, 2)\n",
        "    res = map(lambda x: np.array_split(x, 2, axis=1), half_split)\n",
        "    return reduce(add, res)\n",
        "\n",
        "def concatenate4(north_west, north_east, south_west, south_east):\n",
        "    top = np.concatenate((north_west, north_east), axis=1)\n",
        "    bottom = np.concatenate((south_west, south_east), axis=1)\n",
        "    return np.concatenate((top, bottom), axis=0)\n",
        "\n",
        "# Load the image\n",
        "img = cv2.imread(\"Downloads/puppy.png\")\n",
        "\n",
        "# Split the image into 4 parts\n",
        "split_img = split4(img)\n",
        "\n",
        "# Display the split images\n",
        "fig, axs = plt.subplots(2, 2)\n",
        "axs[0, 0].imshow(cv2.cvtColor(split_img[0], cv2.COLOR_BGR2RGB))\n",
        "axs[0, 1].imshow(cv2.cvtColor(split_img[1], cv2.COLOR_BGR2RGB))\n",
        "axs[1, 0].imshow(cv2.cvtColor(split_img[2], cv2.COLOR_BGR2RGB))\n",
        "axs[1, 1].imshow(cv2.cvtColor(split_img[3], cv2.COLOR_BGR2RGB))\n",
        "\n",
        "# Concatenate the split images to reconstruct the original image\n",
        "full_img = concatenate4(split_img[0], split_img[1], split_img[2], split_img[3])\n",
        "\n",
        "# Display the reconstructed image\n",
        "plt.figure()\n",
        "plt.imshow(cv2.cvtColor(full_img, cv2.COLOR_BGR2RGB))\n",
        "plt.show()\n"
      ]
    }
  ]
}