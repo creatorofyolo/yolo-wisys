{
  "nbformat": 4,
  "nbformat_minor": 0,
  "metadata": {
    "colab": {
      "provenance": []
    },
    "kernelspec": {
      "name": "python3",
      "display_name": "Python 3"
    },
    "language_info": {
      "name": "python"
    }
  },
  "cells": [
    {
      "cell_type": "code",
      "execution_count": null,
      "metadata": {
        "id": "l5s6ZgUyr9E2"
      },
      "outputs": [],
      "source": [
        "import cv2\n",
        "\n",
        "def build_t_pyramid(image, levels):\n",
        "    pyramid = [image]\n",
        "    for _ in range(levels - 1):\n",
        "        image = cv2.pyrDown(image)\n",
        "        pyramid.append(image)\n",
        "    return pyramid\n",
        "\n",
        "def main():\n",
        "    image_path = \"puppy.png\"  # Change this path to your image's path\n",
        "    levels = 5\n",
        "    original_image = cv2.imread(image_path)\n",
        "    if original_image is None:\n",
        "        print(\"Error: Could not load the image.\")\n",
        "        return\n",
        "    t_pyramid = build_t_pyramid(original_image, levels)\n",
        "    for i, level_image in enumerate(t_pyramid):\n",
        "        cv2.imshow(f\"Level {i}\", level_image)\n",
        "    cv2.waitKey(0)\n",
        "    cv2.destroyAllWindows()\n",
        "\n",
        "if __name__ == \"__main__\":\n",
        "    main()"
      ]
    }
  ]
}